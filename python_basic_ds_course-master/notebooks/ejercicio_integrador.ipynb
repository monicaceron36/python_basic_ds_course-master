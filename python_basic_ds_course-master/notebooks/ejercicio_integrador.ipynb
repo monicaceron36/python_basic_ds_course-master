{
 "cells": [
  {
   "cell_type": "markdown",
   "id": "4b8b6dec",
   "metadata": {},
   "source": [
    "# Ejercicio Integrador\n",
    "\n",
    "En este ejercicio trabajarás con una lista de diccionarios que representa a un grupo de personas y las frutas que consumen.\n",
    "\n",
    "### Tareas a realizar:\n",
    "1. Mostrar los nombres de todas las personas encuestadas.\n",
    "2. Calcular el promedio de edad.\n",
    "3. Crear un set con todas las frutas distintas que consumieron.\n",
    "4. Contar cuántas veces se mencionó cada fruta.\n",
    "5. Definir una función que reciba la lista de personas y devuelva la fruta más popular.\n",
    "\n",
    "⚡ **Instrucciones:** Completa el código en las celdas de abajo. No borres las que ya están."
   ]
  },
  {
   "cell_type": "code",
   "execution_count": 2,
   "id": "e5cc912d",
   "metadata": {},
   "outputs": [],
   "source": [
    "personas = [\n",
    "    {\"nombre\": \"Ana\", \"edad\": 23, \"frutas\": (\"manzana\", \"pera\", \"uva\")},\n",
    "    {\"nombre\": \"Luis\", \"edad\": 30, \"frutas\": (\"pera\", \"sandía\")},\n",
    "    {\"nombre\": \"María\", \"edad\": 20, \"frutas\": (\"uva\", \"manzana\", \"kiwi\")},\n",
    "    {\"nombre\": \"Juan\", \"edad\": 25, \"frutas\": (\"naranja\", \"pera\")},\n",
    "    {\"nombre\": \"Sofía\", \"edad\": 28, \"frutas\": (\"mango\", \"manzana\")},\n",
    "    {\"nombre\": \"Carlos\", \"edad\": 35, \"frutas\": (\"sandía\", \"pera\", \"mango\")},\n",
    "    {\"nombre\": \"Elena\", \"edad\": 22, \"frutas\": (\"kiwi\", \"manzana\", \"uva\")},\n",
    "    {\"nombre\": \"Pedro\", \"edad\": 27, \"frutas\": (\"naranja\", \"sandía\")}\n",
    "]\n",
    "\n",
    "# Aquí comienza tu código\n"
   ]
  },
  {
   "cell_type": "markdown",
   "id": "13ed0b70",
   "metadata": {},
   "source": [
    "### 🎯 Salida esperada\n",
    "```\n",
    "Personas encuestadas:\n",
    "- Ana\n",
    "- Luis\n",
    "- María\n",
    "- Juan\n",
    "- Sofía\n",
    "- Carlos\n",
    "- Elena\n",
    "- Pedro\n",
    "\n",
    "Promedio de edad: 26.25\n",
    "Frutas distintas consumidas: {'pera', 'uva', 'kiwi', 'sandía', 'naranja', 'manzana', 'mango'}\n",
    "Conteo de frutas: {'manzana': 3, 'pera': 4, 'uva': 2, 'sandía': 3, 'kiwi': 2, 'naranja': 2, 'mango': 2}\n",
    "Fruta más popular: pera\n",
    "```"
   ]
  },
  {
   "cell_type": "code",
   "execution_count": null,
   "id": "63d65459",
   "metadata": {},
   "outputs": [],
   "source": []
  }
 ],
 "metadata": {
  "kernelspec": {
   "display_name": "python_basic_ds_course",
   "language": "python",
   "name": "python3"
  },
  "language_info": {
   "codemirror_mode": {
    "name": "ipython",
    "version": 3
   },
   "file_extension": ".py",
   "mimetype": "text/x-python",
   "name": "python",
   "nbconvert_exporter": "python",
   "pygments_lexer": "ipython3",
   "version": "3.11.5"
  }
 },
 "nbformat": 4,
 "nbformat_minor": 5
}
